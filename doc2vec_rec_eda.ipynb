{
 "cells": [
  {
   "cell_type": "markdown",
   "metadata": {},
   "source": [
    "# Doc2Vec을 기반한 뉴스 연관 추천"
   ]
  },
  {
   "cell_type": "markdown",
   "metadata": {},
   "source": [
    "## 1. 뉴스 데이터 로드"
   ]
  },
  {
   "cell_type": "code",
   "execution_count": 5,
   "metadata": {},
   "outputs": [],
   "source": [
    "from doc2vec.util.Logger import Logger\n",
    "from doc2vec.util.conf_parser import Parser\n",
    "from doc2vec.elastic.analyzer.nori_analyzer import NoriAnalyzer\n",
    "from doc2vec.preprocessing.preprocessing import *\n",
    "from doc2vec.util.common import load_pickle, save_pickle\n",
    "from doc2vec.preprocessing.preprocessing import generate_tagged_document_by_pandas, load_pdf, is_contain_str\n",
    "import pandas as pd \n",
    "from doc2vec.model.doc2vec import build_model\n",
    "from doc2vec.util.common import set_pandas_format, set_matplotlib_sns_font"
   ]
  },
  {
   "cell_type": "code",
   "execution_count": 6,
   "metadata": {},
   "outputs": [
    {
     "name": "stderr",
     "output_type": "stream",
     "text": [
      "2022-03-21 23:30:41,487 [INFO] - SchemaGenerator.py:__init__ - line:33 - loading index_patterns from NoriAnalyzer\n",
      "2022-03-21 23:30:41,491 [INFO] - SchemaGenerator.py:_load_templates - line:130 - load index_pattern file path = /Users/jmac/project/jtbc_news_data/analyzer/doc2vec/schema_json/NoriAnalyzer/nori-analyzer-template.json\n",
      "2022-03-21 23:30:41,494 [INFO] - SchemaGenerator.py:_load_templates - line:134 - load index_pattern : nori-analyzer-template \n",
      "2022-03-21 23:30:41,495 [INFO] - SchemaGenerator.py:_load_templates - line:143 - \tupdate {'number_of_shards': 1, 'number_of_replicas': 2, 'analysis': {'analyzer': {'my_analyzer': {'type': 'custom', 'tokenizer': 'my-nori-tokenizer', 'filter': ['uppercase', 'synonym_filtering', 'stop_filtering', 'remove_duplicates', 'part_of_speech_stop_sp']}}, 'tokenizer': {'my-nori-tokenizer': {'type': 'nori_tokenizer', 'decompound_mode': 'none', 'discard_punctuation': 'true', 'user_dictionary_rules': ['LG엔솔', '방역패스', '쓰나미', '초강력', '대형마트', '형평성', '외무상', '정경심', '방역당국', '임신부', '이례적', '초과이익', '선순환', 'LG전자', '메디페인', '녹취록', '카카오페이', '먹튀', '건진법사', '한무경', '기획전', '선관위원', '동물학대', '말기암', '이상반응', '계좌조회', '가짜뉴스', '소상공인', 'Q&A', 'K-9', 'K-치킨', 'K-컬쳐', 'K-드라마', 'K-문화', '울렁다리', '출렁다리', 'e글e글', 'CJ대한통운', '엠빅뉴스', '사적', '사의', '사측', '실손보험', '보험사', '콜센터', '상담사', '구로공단', '럭키백', '스타벅스', '오픈런', '확진자', '위중증', '아크부대', '상장폐지', '바이오', '개미', '미포함', '우크라이나', '서울시장', '생태탕', '명예훼손', '팬데믹', '엔데믹', '유체이탈', '효성티앤씨', '봉사활동', '공개활동', '요양시설', '비대면', '대면', '비노조', '초미세먼지', '미세먼지', '비만', '대사관', '돋보기', '단일화', '걸림돌', '등판', '국무부', '대피령', '실종자', '임명직', '알림', '다음주', '이번주', '일회용', '베어스타운', '혼자', 'PC방', '폭증', '무기징역', '1심', '2심', '3심', '러시아', 'R&D', '이모작', '고품질', '삼성SDS', '영업익', '백제고분', '건업인', 'P2E', '국힘', '국민의힘', '폴스타2', '쌍용차', '운전면허', '운전면허증', '매출', '영업이익', '메타버스', '토론', '월풀', '모두의마블', '삼성SDI', '채이배', '근로소득세', '거리두기', '배달비', '최악', '신규확진', '고속도로', '해적', '중대재해처벌법', '현대엔지니어링', 'LG유플러스', 'LGU+', '급증세', '아이오닉 5', 'GV80', '아이오닉5', '수입차', '차례상', '학원차', '이산화탄소', '유류세', '청해부대', '노바백스', '미접종', '팩트', '자가진단키트', '수행단', '한국케미호', '전염력', '징계안', '인플루언서', '전술유도탄', '대기업', '초접전', '해적', '현대ENG', '한미일', '외교장관', '모더나', '강제노역', '세계유산', '사도관광', '손님', '노마스크', '층간소음', '나이키', '선별진료소', '팀 킴', '발리예바', '팀킴', 'S22', '다음 주', '신속항원검사', '이번 주', '차민규', '황대헌', '엔씨소프트', '목표가', '베를린영화제', '은곰상', '카카오T', '유투버', '금강송', '군락지', '산업부', '국표원', '국가기술표준원', '폴라에너지앤마린', '샘표', '금산분리', '호흡곤란', '한은', '한국은행', '재무부', '요소수', '풀영상', '재난지원금', '자영업자', '여론조사', '조사결과', '대선후보', '종부세', '원팀', '썰전', '2030', '다시보기', '수급난']}}, 'filter': {'part_of_speech_stop_sp': {'type': 'nori_part_of_speech', 'stoptags': ['E', 'IC', 'J', 'MAG', 'MAJ', 'MM', 'SP', 'SSC', 'SSO', 'SC', 'SE', 'XPN', 'XSA', 'XSN', 'XSV', 'UNA', 'NA', 'VSV', 'VV', 'NNB', 'VX']}, 'synonym_filtering': {'type': 'synonym', 'synonyms': ['방역 패스,방역패스=>방역패스', '초등생=>초등 학생', '화산 폭발=>화산폭발', '기름 유출=>기름유출', '백신 접종=>백신접종', '취재후 Talk,취재후 TALK=>취재후Talk', '코로나19=>코로나', '초미세먼지,미세먼지=>미세먼지', '고품질,품질=>품질', '영업익=>영업이익', '국힘=>국민의힘', '운전면허증=>운전면허', '모두의 마블=>모두의마블', 'LG유플러스,LGU+=>LGU+', '아이오닉 5,아이오닉5=>아이오닉5', '현대ENG,현대엔지니어링=>현대ENG', '설날=>설', '팀 킴=>팀킴', '우크라=>우크라이나', '국표원=>국가기술표준원', '한은=>한국은행']}, 'stop_filtering': {'type': 'stop', 'stopwords': ['%p', '때', '곳곳', '전', '후', '곳', '통', '속', '1심', '2심', '3심', '자', '이번', '뒤', '배', '수록', '간', '달', '수록', '층서', '나나']}}}} in template.settings\n",
      "2022-03-21 23:30:41,497 [INFO] - SchemaGenerator.py:__init__ - line:45 - loaded NoriAnalyzer's index_patterns\n"
     ]
    }
   ],
   "source": [
    "set_pandas_format()\n",
    "set_matplotlib_sns_font()\n",
    "logger = Logger(file_name=__name__).logger\n",
    "p = Parser()\n",
    "\n",
    "nori = NoriAnalyzer(**p.elastic_conf)"
   ]
  },
  {
   "cell_type": "code",
   "execution_count": 3,
   "metadata": {},
   "outputs": [
    {
     "name": "stdout",
     "output_type": "stream",
     "text": [
      "file_path : /Users/jmac/project/jtbc_news_data/analyzer/data/rec/news.csv\n",
      "file_name : news.csv\n",
      "DATA INFO\n",
      "<class 'pandas.core.frame.DataFrame'>\n",
      "RangeIndex: 13405 entries, 0 to 13404\n",
      "Data columns (total 5 columns):\n",
      " #   Column        Non-Null Count  Dtype                                \n",
      "---  ------        --------------  -----                                \n",
      " 0   news_id       13405 non-null  object                               \n",
      " 1   news_nm       13405 non-null  object                               \n",
      " 2   section       13405 non-null  object                               \n",
      " 3   service_date  13405 non-null  datetime64[ns, pytz.FixedOffset(540)]\n",
      " 4   news_content  13405 non-null  object                               \n",
      "dtypes: datetime64[ns, pytz.FixedOffset(540)](1), object(4)\n",
      "memory usage: 523.8+ KB\n",
      "\n",
      "----------------------------------------------------------------------------------------------------\n",
      "DATA IS_NULL\n",
      "+--------------+-----+\n",
      "|              |   0 |\n",
      "|--------------+-----|\n",
      "| news_id      |   0 |\n",
      "| news_nm      |   0 |\n",
      "| section      |   0 |\n",
      "| service_date |   0 |\n",
      "| news_content |   0 |\n",
      "+--------------+-----+\n",
      "(13405, 5)\n",
      "(12553, 6)\n"
     ]
    },
    {
     "data": {
      "text/html": [
       "<div>\n",
       "<style scoped>\n",
       "    .dataframe tbody tr th:only-of-type {\n",
       "        vertical-align: middle;\n",
       "    }\n",
       "\n",
       "    .dataframe tbody tr th {\n",
       "        vertical-align: top;\n",
       "    }\n",
       "\n",
       "    .dataframe thead th {\n",
       "        text-align: right;\n",
       "    }\n",
       "</style>\n",
       "<table border=\"1\" class=\"dataframe\">\n",
       "  <thead>\n",
       "    <tr style=\"text-align: right;\">\n",
       "      <th></th>\n",
       "      <th>news_id</th>\n",
       "      <th>news_nm</th>\n",
       "      <th>section</th>\n",
       "      <th>service_date</th>\n",
       "      <th>news_content</th>\n",
       "      <th>is_in_str</th>\n",
       "    </tr>\n",
       "  </thead>\n",
       "  <tbody>\n",
       "    <tr>\n",
       "      <th>12548</th>\n",
       "      <td>NB12048876</td>\n",
       "      <td>[백브리핑] 여야 의원들에게 시급한 '현안'은…나라 걱정? 당 걱정!</td>\n",
       "      <td>정치</td>\n",
       "      <td>2022-02-28 20:43:00+09:00</td>\n",
       "      <td>&lt;div id='div_NV10482274' class='jtbc_vod'&gt;&lt;/di...</td>\n",
       "      <td>False</td>\n",
       "    </tr>\n",
       "    <tr>\n",
       "      <th>12549</th>\n",
       "      <td>NB12048878</td>\n",
       "      <td>'처방전 발급' 의사 \"말하면 수사 저촉\"…약국 측 \"직접 안 와\"</td>\n",
       "      <td>정치</td>\n",
       "      <td>2022-02-28 20:10:00+09:00</td>\n",
       "      <td>&lt;div id='div_NV10482250' class='jtbc_vod'&gt;&lt;/di...</td>\n",
       "      <td>False</td>\n",
       "    </tr>\n",
       "    <tr>\n",
       "      <th>12550</th>\n",
       "      <td>NB12048879</td>\n",
       "      <td>[이슈체크] '인수위 공동운영'까지 합의했다지만…양측 주장은</td>\n",
       "      <td>정치</td>\n",
       "      <td>2022-02-28 20:31:00+09:00</td>\n",
       "      <td>&lt;div id='div_NV10482254' class='jtbc_vod'&gt;&lt;/di...</td>\n",
       "      <td>False</td>\n",
       "    </tr>\n",
       "    <tr>\n",
       "      <th>12551</th>\n",
       "      <td>NB12048881</td>\n",
       "      <td>러시아-우크라이나, 벨라루스서 협상 시작</td>\n",
       "      <td>국제</td>\n",
       "      <td>2022-02-28 19:36:00+09:00</td>\n",
       "      <td>&lt;div id=\"txtTag550_newsjam_photo202202284d9e03...</td>\n",
       "      <td>False</td>\n",
       "    </tr>\n",
       "    <tr>\n",
       "      <th>12552</th>\n",
       "      <td>NB12048884</td>\n",
       "      <td>러시아 국방부 \"핵 전력 강화태세 돌입\"</td>\n",
       "      <td>정치</td>\n",
       "      <td>2022-02-28 23:04:00+09:00</td>\n",
       "      <td>로이터통신은 \"러시아 인테르팍스 통신이 '러시아 국방부가 푸틴 대통령의 지시에...</td>\n",
       "      <td>False</td>\n",
       "    </tr>\n",
       "  </tbody>\n",
       "</table>\n",
       "</div>"
      ],
      "text/plain": [
       "          news_id                                 news_nm section  \\\n",
       "12548  NB12048876  [백브리핑] 여야 의원들에게 시급한 '현안'은…나라 걱정? 당 걱정!      정치   \n",
       "12549  NB12048878   '처방전 발급' 의사 \"말하면 수사 저촉\"…약국 측 \"직접 안 와\"      정치   \n",
       "12550  NB12048879       [이슈체크] '인수위 공동운영'까지 합의했다지만…양측 주장은      정치   \n",
       "12551  NB12048881                  러시아-우크라이나, 벨라루스서 협상 시작      국제   \n",
       "12552  NB12048884                  러시아 국방부 \"핵 전력 강화태세 돌입\"      정치   \n",
       "\n",
       "                   service_date  \\\n",
       "12548 2022-02-28 20:43:00+09:00   \n",
       "12549 2022-02-28 20:10:00+09:00   \n",
       "12550 2022-02-28 20:31:00+09:00   \n",
       "12551 2022-02-28 19:36:00+09:00   \n",
       "12552 2022-02-28 23:04:00+09:00   \n",
       "\n",
       "                                            news_content  is_in_str  \n",
       "12548  <div id='div_NV10482274' class='jtbc_vod'></di...      False  \n",
       "12549  <div id='div_NV10482250' class='jtbc_vod'></di...      False  \n",
       "12550  <div id='div_NV10482254' class='jtbc_vod'></di...      False  \n",
       "12551  <div id=\"txtTag550_newsjam_photo202202284d9e03...      False  \n",
       "12552     로이터통신은 \"러시아 인테르팍스 통신이 '러시아 국방부가 푸틴 대통령의 지시에...      False  "
      ]
     },
     "execution_count": 3,
     "metadata": {},
     "output_type": "execute_result"
    }
   ],
   "source": [
    "ori_df = load_pdf(\"news.csv\", sep=\"^\")\n",
    "\n",
    "print(ori_df.shape)\n",
    "ori_df.drop_duplicates(['news_id'], keep='last', inplace=True)\n",
    "\n",
    "# 제거할 거 (news_nm기준으로 제거, 13,405 -> 12,553로 의미 없는 기사 제거 )\n",
    "# - 클로징, BGM, 썰전 라이브 다시보기(-> 이건 text 내용이 없음)\n",
    "# 사용자 history 기반 news 수 :\n",
    "#          news_id  ...                                       news_content\n",
    "# 65139  NB12045093  ...  <div id='div_NV10478125' ...\n",
    "# 65140  NB12045094  ...  <div id='div_NV10478127' ...\n",
    "ori_df['is_in_str'] = ori_df['news_nm'].apply(is_contain_str)\n",
    "df = ori_df[~ori_df['is_in_str']==True].copy()\n",
    "df.reset_index(drop=True, inplace=True)\n",
    "print(df.shape)\n",
    "\n",
    "df.tail()\n",
    "\n"
   ]
  },
  {
   "cell_type": "markdown",
   "metadata": {},
   "source": [
    "## 2. elastic 기반 형태소 분석 수행 (with. nori analyzer)"
   ]
  },
  {
   "cell_type": "markdown",
   "metadata": {},
   "source": [
    "위에서 로드한 news.csv 파일에서 news_nm과 news_content를 기준으로 사전에 구축 및 nori 플러그인이 설치된 elastic에 analyzer를 수행하여\n",
    "형태소 분석된 결과를 parsing_data_df(pandas) 형태로 저장\n",
    "- 참고로 elastic analyze에서는 list 형태로 데이터 분석에 제한이 있어서 우선 step=10으로 10개의 documents 단위로 형태소 분석을 수행함"
   ]
  },
  {
   "cell_type": "code",
   "execution_count": null,
   "metadata": {},
   "outputs": [],
   "source": [
    "save_flag = True\n",
    "\n",
    "step = 10\n",
    "\n",
    "analyzed_df = pd.DataFrame(columns=['news_id', 'tagged_doc'])\n",
    "\n",
    "news_contents_parsing = {}\n",
    "nori.update_index_setting()\n",
    "for idx in range(0, df.shape[0], step):\n",
    "    if idx + step > df.shape[0]:\n",
    "        parsing_df = df.iloc[idx: df.shape[0]][['news_id', 'news_content', 'news_nm']]\n",
    "    else:\n",
    "        parsing_df = df.iloc[idx: idx + step][['news_id', 'news_content', 'news_nm']]\n",
    "\n",
    "    tmp_parsing = nori.get_parsing_news_contents_from_csv(parsing_df)\n",
    "    news_contents_parsing.update(tmp_parsing)\n",
    "    result_df = pd.DataFrame({'news_id': list(tmp_parsing.keys()), 'tagged_doc': list(tmp_parsing.values())})\n",
    "    analyzed_df = pd.concat([analyzed_df, result_df], axis=0)\n",
    "\n",
    "if save_flag:\n",
    "    save_pickle(os.path.join(rootpath.detect(), *[\"data\", \"rec\", \"parsing_data.pickle\"]), news_contents_parsing)\n",
    "    save_pickle(os.path.join(rootpath.detect(), *[\"data\", \"rec\", \"parsing_data_df.pickle\"]),\n",
    "                analyzed_df)"
   ]
  },
  {
   "cell_type": "code",
   "execution_count": 8,
   "metadata": {},
   "outputs": [
    {
     "data": {
      "image/png": "[encoded data removed]",
      "text/plain": [
       "<Figure size 720x504 with 1 Axes>"
      ]
     },
     "metadata": {},
     "output_type": "display_data"
    },
    {
     "data": {
      "text/plain": [
       "<AxesSubplot:xlabel='Samples', ylabel='Counts'>"
      ]
     },
     "execution_count": 8,
     "metadata": {},
     "output_type": "execute_result"
    }
   ],
   "source": [
    "\n",
    "from nltk.probability import FreqDist\n",
    "parsing_df = load_pickle(os.path.join(rootpath.detect(), *[\"data\", \"rec\", \"parsing_data_df.pickle\"]))\n",
    "\n",
    "word_split = []\n",
    "for i in range(len(parsing_df)):\n",
    "    for j in parsing_df.iloc[i]['tagged_doc']:\n",
    "        word_split.append(j)\n",
    "\n",
    "# 사전 업데이트가 조금 필요한 듯 ㅠㅠ\n",
    "FreqDist(word_split).plot(50)"
   ]
  },
  {
   "cell_type": "markdown",
   "metadata": {},
   "source": [
    "## 3. doc2vec 모델 생성을 위한 데이터 변환 및 분할\n",
    "\n",
    "elastic기반으로 형태소 분석된 데이터를 TaggedDocument로 변환하고\n",
    "검증을 위해 훈련데이터와 검증 데이터를 나뉨\n",
    "\n",
    "TaggedDocument는 words와 tags로 정의 됨\n",
    "- TaggedDocument(['홍남기', '부총리', '기획', '재정부', '장관', ..., '통보'], ['2022030610442141299'])"
   ]
  },
  {
   "cell_type": "code",
   "execution_count": 12,
   "metadata": {},
   "outputs": [
    {
     "name": "stdout",
     "output_type": "stream",
     "text": [
      "x_train.shape=  (8787, 1) , y_train.shape=  (8787,)\n",
      "x_test.shape=  (3766, 1) , y_test.shape=  (3766,)\n"
     ]
    }
   ],
   "source": [
    "from sklearn.model_selection import train_test_split\n",
    "\n",
    "parsing_data_df_path = os.path.join(rootpath.detect(), *[\"data\", \"rec\", \"parsing_data_df.pickle\"])\n",
    "parsing_data_df = load_pickle(parsing_data_df_path)\n",
    "\n",
    "x_train, x_test, y_train, y_test = train_test_split(parsing_data_df[['tagged_doc']],\n",
    "                                                    parsing_data_df['news_id'],\n",
    "                                                    test_size=0.3,\n",
    "                                                    shuffle=True,\n",
    "                                                    random_state=42)\n",
    "x_train = x_train.reset_index(drop=True)\n",
    "x_test = x_test.reset_index(drop=True)\n",
    "y_train = y_train.reset_index(drop=True)\n",
    "y_test = y_test.reset_index(drop=True)\n",
    "print(\"x_train.shape= \", x_train.shape, \", y_train.shape= \", y_train.shape)\n",
    "print(\"x_test.shape= \", x_test.shape, \", y_test.shape= \", y_test.shape)\n",
    "\n",
    "train_tagged_doc = generate_tagged_document_by_pandas(x_train, y_train)\n",
    "test_tagged_doc = generate_tagged_document_by_pandas(x_test, y_test)\n",
    "\n",
    "save_pickle(os.path.join(rootpath.detect(), *[\"data\", \"rec\", \"train_tagged_doc.pickle\"]), train_tagged_doc)\n",
    "save_pickle(os.path.join(rootpath.detect(), *[\"data\", \"rec\", \"test_tagged_doc.pickle\"]), test_tagged_doc)"
   ]
  },
  {
   "cell_type": "markdown",
   "metadata": {},
   "source": [
    "## 4. 모델 생성 및 저장\n",
    "\n",
    "doc2vec 모델을 위해서 gensim을 사용하였으며, 모델에 대한 정의는 doc2vec/model/doc2vec.py에 정의 되어 있음\n",
    "\n",
    "일반적으로 dm=1 즉, PV-DM 학습 방법이 성능이 더 좋다고 하여 해당 방법을 채택\n",
    "\n",
    "또한 vector_size가 크면 좋지만, 그에 따른 학습 속도가 길어지기 때문에 vector_size와 windows 사이즈에 대한 성능 측정을 참고하여 vector_size=1000, window=3을 선택\n",
    "\n",
    "\n",
    "참고: 내부에서 정의된 모델 정보 (병렬처리 하게끔 설정함)\n",
    "\n",
    "\n",
    "    model = gensim.models.doc2vec.Doc2Vec(vector_size=1000, min_count=2, epochs=100,\n",
    "                                            alpha=0.025, min_alpha=0.00025, workers=cores,\n",
    "                                            window=3, dm=1, seed=9999)\n",
    "                                \n"
   ]
  },
  {
   "cell_type": "code",
   "execution_count": null,
   "metadata": {},
   "outputs": [],
   "source": [
    "tagged_doc = load_pickle(os.path.join(rootpath.detect(), *[\"data\", \"rec\", \"train_tagged_doc.pickle\"]))\n",
    "\n",
    "# 모델 불러오기\n",
    "d2v_model = build_model()\n",
    "\n",
    "# 사전 구축\n",
    "d2v_model.build_vocab(tagged_doc)\n",
    "\n",
    "# 모델 훈련\n",
    "d2v_model.train(tagged_doc, total_examples=d2v_model.corpus_count, epochs=d2v_model.epochs)\n",
    "\n",
    "d2v_model.save(os.path.join(rootpath.detect(), *['model', 'model.doc2vec']))"
   ]
  },
  {
   "cell_type": "markdown",
   "metadata": {},
   "source": [
    "모델 테스트는 아래와 같이 가볍게 할 수 있음:\n",
    "\n",
    "- 아래는 검증 데이터를 기반으로 훈련된 모델에서 문서에 대한 vector가 주어졌을때 vector를 뽑아줌"
   ]
  },
  {
   "cell_type": "code",
   "execution_count": 14,
   "metadata": {},
   "outputs": [
    {
     "name": "stderr",
     "output_type": "stream",
     "text": [
      "2022-03-16 16:31:38,902 [INFO] - utils.py:load - line:481 - loading Doc2Vec object from /Users/jmac/project/jtbc_news_data/analyzer/model/model.doc2vec\n",
      "2022-03-16 16:31:38,972 [INFO] - utils.py:_load_specials - line:515 - loading dv recursively from /Users/jmac/project/jtbc_news_data/analyzer/model/model.doc2vec.dv.* with mmap=None\n",
      "2022-03-16 16:31:38,974 [INFO] - utils.py:_load_specials - line:515 - loading wv recursively from /Users/jmac/project/jtbc_news_data/analyzer/model/model.doc2vec.wv.* with mmap=None\n",
      "2022-03-16 16:31:38,975 [INFO] - utils.py:_load_specials - line:520 - loading vectors from /Users/jmac/project/jtbc_news_data/analyzer/model/model.doc2vec.wv.vectors.npy with mmap=None\n",
      "2022-03-16 16:31:39,106 [INFO] - utils.py:_load_specials - line:520 - loading syn1neg from /Users/jmac/project/jtbc_news_data/analyzer/model/model.doc2vec.syn1neg.npy with mmap=None\n",
      "2022-03-16 16:31:39,240 [INFO] - utils.py:_load_specials - line:553 - setting ignored attribute cum_table to None\n",
      "2022-03-16 16:31:39,653 [INFO] - utils.py:add_lifecycle_event - line:447 - Doc2Vec lifecycle event {'fname': '/Users/jmac/project/jtbc_news_data/analyzer/model/model.doc2vec', 'datetime': '2022-03-16T16:31:39.653523', 'gensim': '4.1.2', 'python': '3.9.10 (main, Jan 15 2022, 11:48:00) \\n[Clang 13.0.0 (clang-1300.0.29.3)]', 'platform': 'macOS-12.2.1-x86_64-i386-64bit', 'event': 'loaded'}\n"
     ]
    },
    {
     "name": "stdout",
     "output_type": "stream",
     "text": [
      "TaggedDocument(['추미애', '신천지', '압수수색', '영장', '윤석열', '지시', '반려', '추미애', '법무부', '장관', '사진', '국회', '사진', '기자단', '추미애', '법무부', '장관', '당시', '검찰', '총장', '이', '윤석열', '국민의힘', '대선', '후보', '신천지', '압수수색', '영장', '차례', '반려', '주장', '추', '장관', '오늘', '21', '일', 'MBC', '라디오', '김종배', '시선', '집중', '출연', '윤', '후보', '총선', '인데', '방역', '실패', '집권당', '선거', '심판', '검찰', '선거', '개입', '반려', '지시', '이', '진행자', '당시', '대검찰청', '사람', '얘기', '대검', '사람', '아니', '윤석열', '총장', '큰일', '입니다', '구두', '답', '추', '장관', '당시', '윤', '후보', '영장', '반려', '지시', '배경', '건진법사', '관여', '이', '그', '그건', '겉', '이야기', '였', '윤', '후보', '당시', '대통령', '계획', '있', '윤석열', '누구', '인지', '국민', '각인', '이만희', '총회장', '처리', '수사', '건진법사', '말', '이', '건진법사', '총회장', '하나', '영매', '인데', '대통령', '걸림돌', '손', '피', '부드럽', '조언', '주장', '이', '진행자', '건진법사', '조언', '있', '추가', '파악', '내용', '추', '장관', '없', '실제', '차례', '영장', '기각', '있', '정치', '발언', '법사', '정치', '동기', '앞뒤', '맥락', '같', '답'], ['NB12043728'])\n",
      "vector size =  1000\n",
      "Top 10 values in Doc2Vec inferred vecotr: \n",
      "[-1.218271   -1.2903349  -0.6110239   1.4088161   0.61934924 -0.99108815\n",
      "  1.9800053  -0.63617796  0.7694045  -1.4825902 ]\n"
     ]
    }
   ],
   "source": [
    "test_tagged_doc = load_pickle(os.path.join(rootpath.detect(), *[\"data\", \"rec\", \"test_tagged_doc.pickle\"]))\n",
    "\n",
    "d2v_model = gensim.models.doc2vec.Doc2Vec.load(os.path.join(rootpath.detect(), *['model', 'model.doc2vec']))\n",
    "\n",
    "print(test_tagged_doc[0])\n",
    "vector = d2v_model.infer_vector(test_tagged_doc[0].words)\n",
    "print(\"vector size = \", len(vector))\n",
    "print(\"Top 10 values in Doc2Vec inferred vecotr: \")\n",
    "print(vector[:10])"
   ]
  },
  {
   "cell_type": "code",
   "execution_count": 17,
   "metadata": {},
   "outputs": [
    {
     "name": "stderr",
     "output_type": "stream",
     "text": [
      "2022-03-16 16:32:10,526 [INFO] - utils.py:load - line:481 - loading Doc2Vec object from /Users/jmac/project/jtbc_news_data/analyzer/model/model.doc2vec\n",
      "2022-03-16 16:32:10,553 [INFO] - utils.py:_load_specials - line:515 - loading dv recursively from /Users/jmac/project/jtbc_news_data/analyzer/model/model.doc2vec.dv.* with mmap=None\n",
      "2022-03-16 16:32:10,554 [INFO] - utils.py:_load_specials - line:515 - loading wv recursively from /Users/jmac/project/jtbc_news_data/analyzer/model/model.doc2vec.wv.* with mmap=None\n",
      "2022-03-16 16:32:10,555 [INFO] - utils.py:_load_specials - line:520 - loading vectors from /Users/jmac/project/jtbc_news_data/analyzer/model/model.doc2vec.wv.vectors.npy with mmap=None\n",
      "2022-03-16 16:32:10,585 [INFO] - utils.py:_load_specials - line:520 - loading syn1neg from /Users/jmac/project/jtbc_news_data/analyzer/model/model.doc2vec.syn1neg.npy with mmap=None\n",
      "2022-03-16 16:32:10,627 [INFO] - utils.py:_load_specials - line:553 - setting ignored attribute cum_table to None\n",
      "2022-03-16 16:32:10,987 [INFO] - utils.py:add_lifecycle_event - line:447 - Doc2Vec lifecycle event {'fname': '/Users/jmac/project/jtbc_news_data/analyzer/model/model.doc2vec', 'datetime': '2022-03-16T16:32:10.987016', 'gensim': '4.1.2', 'python': '3.9.10 (main, Jan 15 2022, 11:48:00) \\n[Clang 13.0.0 (clang-1300.0.29.3)]', 'platform': 'macOS-12.2.1-x86_64-i386-64bit', 'event': 'loaded'}\n"
     ]
    },
    {
     "name": "stdout",
     "output_type": "stream",
     "text": [
      "['NB12031342', 'NB12027033', 'NB12020360', 'NB12042114', 'NB12034288', 'NB12043582', 'NB12038667', 'NB12043899', 'NB12034863', 'NB12047674']\n"
     ]
    }
   ],
   "source": [
    "# 모델에 훈련된 tags를 확인 하는 방법\n",
    "d2v_model = gensim.models.doc2vec.Doc2Vec.load(os.path.join(rootpath.detect(), *['model', 'model.doc2vec']))\n",
    "print(d2v_model.dv.index_to_key[:10])"
   ]
  },
  {
   "cell_type": "markdown",
   "metadata": {},
   "source": [
    "## 5. 연관 문서 추천 (doc2vec)\n",
    "\n",
    "훈련 데이터를 기반으로 특정 문서를 넣었을때, 해당 문서와 유사한 문서를 훈련된 모델로 찾음\n",
    "\n",
    "참고: 자기 자신 제외는 아직 로직 상 집어 넣지 않았음.\n",
    "\n",
    "(그래도 결과적으로 유사한 뉴스가 나옴)\n"
   ]
  },
  {
   "cell_type": "code",
   "execution_count": 18,
   "metadata": {},
   "outputs": [],
   "source": [
    "def _check_sim_news(data, news_df, d2v_model):\n",
    "\n",
    "    for a_data in data:\n",
    "        selected_news_id = a_data.tags[0]\n",
    "        selected_news_df = news_df[news_df['news_id'] == selected_news_id][['news_id', 'news_nm', 'news_content']]\n",
    "        print(\"\\n=============================================================================================================\")\n",
    "        print(f\"[{selected_news_id}] {selected_news_df.news_nm.values[0]}\")\n",
    "        inferred = d2v_model.infer_vector(a_data.words)\n",
    "        sims = d2v_model.dv.most_similar(inferred, topn=5)\n",
    "\n",
    "        for sim in sims:\n",
    "            news_id = sim[0]\n",
    "            sim_value = sim[1]\n",
    "            tmp_sim_news_df = news_df[news_df['news_id'] == news_id][\n",
    "                ['news_id', 'news_nm', 'news_content']]\n",
    "            if not tmp_sim_news_df.empty:\n",
    "                print(f\" 연관추천 [{news_id} ({sim_value})] {tmp_sim_news_df.news_nm.values[0]}\")\n",
    "        print(\"\\n\")"
   ]
  },
  {
   "cell_type": "code",
   "execution_count": 25,
   "metadata": {},
   "outputs": [
    {
     "name": "stderr",
     "output_type": "stream",
     "text": [
      "2022-03-17 10:53:54,390 [INFO] - utils.py:load - line:481 - loading Doc2Vec object from /Users/jmac/project/jtbc_news_data/analyzer/model/model.doc2vec\n",
      "2022-03-17 10:53:54,588 [INFO] - utils.py:_load_specials - line:515 - loading dv recursively from /Users/jmac/project/jtbc_news_data/analyzer/model/model.doc2vec.dv.* with mmap=None\n",
      "2022-03-17 10:53:54,589 [INFO] - utils.py:_load_specials - line:515 - loading wv recursively from /Users/jmac/project/jtbc_news_data/analyzer/model/model.doc2vec.wv.* with mmap=None\n",
      "2022-03-17 10:53:54,590 [INFO] - utils.py:_load_specials - line:520 - loading vectors from /Users/jmac/project/jtbc_news_data/analyzer/model/model.doc2vec.wv.vectors.npy with mmap=None\n",
      "2022-03-17 10:53:54,750 [INFO] - utils.py:_load_specials - line:520 - loading syn1neg from /Users/jmac/project/jtbc_news_data/analyzer/model/model.doc2vec.syn1neg.npy with mmap=None\n",
      "2022-03-17 10:53:54,861 [INFO] - utils.py:_load_specials - line:553 - setting ignored attribute cum_table to None\n",
      "2022-03-17 10:53:55,191 [INFO] - utils.py:add_lifecycle_event - line:447 - Doc2Vec lifecycle event {'fname': '/Users/jmac/project/jtbc_news_data/analyzer/model/model.doc2vec', 'datetime': '2022-03-17T10:53:55.191790', 'gensim': '4.1.2', 'python': '3.9.10 (main, Jan 15 2022, 11:48:00) \\n[Clang 13.0.0 (clang-1300.0.29.3)]', 'platform': 'macOS-12.2.1-x86_64-i386-64bit', 'event': 'loaded'}\n"
     ]
    },
    {
     "name": "stdout",
     "output_type": "stream",
     "text": [
      "\n",
      "=============================================================================================================\n",
      "[NB12031342] 힙합 가수 트래비스 스콧 공연 도중 관객 8명 압사\n",
      " 연관추천 [NB12031342 (0.924715518951416)] 힙합 가수 트래비스 스콧 공연 도중 관객 8명 압사\n",
      " 연관추천 [NB12031316 (0.5869700312614441)] 미 콘서트장서 압사 사고…8명 숨지고 300여 명 다쳐\n",
      " 연관추천 [NB11997213 (0.41196778416633606)] 전남 장흥 호계터널서 SUV 차량 1톤 트럭 추돌…1명 부상\n",
      " 연관추천 [NB12019314 (0.39683055877685547)] 모녀 탄 자동차, 경계석 충돌 후 추락…나무에 걸려 구조\n",
      " 연관추천 [NB12041958 (0.39391034841537476)] '평택 화재' 순직 소방관 합동영결식…문 대통령도 참석\n",
      "\n",
      "\n",
      "\n",
      "=============================================================================================================\n",
      "[NB12027033] NC, 키움 조상우 무너뜨리고 '가을야구' 실낱 희망\n",
      " 연관추천 [NB12027033 (0.9245533347129822)] NC, 키움 조상우 무너뜨리고 '가을야구' 실낱 희망\n",
      " 연관추천 [NB12021205 (0.6930510401725769)] 삼성, SSG에 9회말 4점 추가 '대역전승'…2위 도약\n",
      " 연관추천 [NB12014624 (0.6308066844940186)] 선두 kt 6연승 행진…강백호 시즌 첫 100안타\n",
      " 연관추천 [NB12001751 (0.6208816170692444)] 오승환 KBO 최초 300세이브…키움, SSG에 짜릿한 역전승\n",
      " 연관추천 [NB12013646 (0.6161426901817322)] '5회 6점 집중력' SSG, 열세 뒤집고 LG 6연승 저지\n",
      "\n",
      "\n",
      "\n",
      "=============================================================================================================\n",
      "[NB12020360] 거리 곳곳 '총 든' 탈레반…카불 공항 일단 운영 재개\n",
      " 연관추천 [NB12020360 (0.9367651343345642)] 거리 곳곳 '총 든' 탈레반…카불 공항 일단 운영 재개\n",
      " 연관추천 [NB12020257 (0.5032171010971069)] 대탈출 행렬 카불공항 '혼돈'…민항기·군용기 운항 중단\n",
      " 연관추천 [NB12048706 (0.4169972836971283)] \"러시아군, 우크라 제2도시 하리코프 진입…격렬한 전투\"\n",
      " 연관추천 [NB12021709 (0.4014921188354492)] 카불 폭탄 테러 사상자 급증…\"최소 170명 사망\"\n",
      " 연관추천 [NB12048200 (0.4013686180114746)] 발전소 파괴, 방송국 폭발…포성 가득한 우크라이나 돈바스\n",
      "\n",
      "\n",
      "\n",
      "=============================================================================================================\n",
      "[NB12042114] 막내 호랑이 강산, 무지개 다리 건넜다…음식이 기도 막아\n",
      " 연관추천 [NB12042114 (0.9380037784576416)] 막내 호랑이 강산, 무지개 다리 건넜다…음식이 기도 막아\n",
      " 연관추천 [NB12025366 (0.4300195872783661)] 호랑이네 오둥이 '아름·다운·우리·나라·강산' 일반 공개\n",
      " 연관추천 [NB12042077 (0.41876834630966187)] [뉴스체크｜문화] 강동원, 배은심 여사 빈소 조문\n",
      " 연관추천 [NB12036529 (0.41053280234336853)] 이정현, 엄마된다…\"사랑스러운 아기 찾아왔다\"\n",
      " 연관추천 [NB12041482 (0.4095519185066223)] \"나쁜 기운 쫓아내는 호랑이의 해…코로나도 물리치길\"\n",
      "\n",
      "\n",
      "\n",
      "=============================================================================================================\n",
      "[NB12034288] 안철수·심상정 2030 집중 공략…허경영, '공약 카피' 경고\n",
      " 연관추천 [NB12034288 (0.9696196913719177)] 안철수·심상정 2030 집중 공략…허경영, '공약 카피' 경고\n",
      " 연관추천 [NB12033959 (0.33480897545814514)] 안철수 '준 모병제' 공약…\"전역하면 1천만원 지급도\"  \n",
      " 연관추천 [NB12034157 (0.32915636897087097)] 청년 표심 겨냥한 '모병제 공약'…1020 의견 들어보니\n",
      " 연관추천 [NB12033809 (0.3205653727054596)] \"단일화는 없어도 정책 공조는 있다\"…제3지대 공통점 찾기\n",
      " 연관추천 [NB12040656 (0.30314868688583374)] 이재명 \"주택 250만호 공급…부동산 불로소득 막겠다\" \n",
      "\n",
      "\n",
      "\n",
      "=============================================================================================================\n",
      "[NB12043582] 재벌가 상대로 프로포폴 놔준 성형외과 원장...2심에서도 실형\n",
      " 연관추천 [NB12043582 (0.9400328993797302)] 재벌가 상대로 프로포폴 놔준 성형외과 원장...2심에서도 실형\n",
      " 연관추천 [NB12047423 (0.4022955000400543)] 경찰, '5년간 245억 횡령' 30대 직원에 구속영장 신청\n",
      " 연관추천 [NB12031461 (0.3748455345630646)] 청진하면서 환자들 불법 촬영한 의사 구속 송치\n",
      " 연관추천 [NB12041867 (0.3718758821487427)] '막대 엽기살인' 미스터리…스포츠센터 대표 \"죄송하다\"\n",
      " 연관추천 [NB12043928 (0.3706664443016052)] \"오피스텔 소유권 안 준다\" 아버지 때려 숨지게 한 40대 징역 8년\n",
      "\n",
      "\n",
      "\n",
      "=============================================================================================================\n",
      "[NB12038667] '풍류대장' 최후의 6팀 가리기 위한 '밀어내기 끝장 승부'\n",
      " 연관추천 [NB12038667 (0.9322242736816406)] '풍류대장' 최후의 6팀 가리기 위한 '밀어내기 끝장 승부'\n",
      " 연관추천 [NB12038833 (0.6933317184448242)] '풍류대장' 김준수 vs 김주리, 극과 극 승부수의 결과는?\n",
      " 연관추천 [NB12038990 (0.594562292098999)] '풍류대장' 결정된 톱6…제1대 풍류대장은 누가 될 것인가\n",
      " 연관추천 [NB12039725 (0.5726962089538574)] 대망의 생방송 파이널 경연…제1대 '풍류대장' 탄생한다\n",
      " 연관추천 [NB12033924 (0.5437178611755371)] '풍류대장' 실력자들 뭉친 3라운드 팀 배틀 무대에 '열광'\n",
      "\n",
      "\n"
     ]
    }
   ],
   "source": [
    "# news_df = load_pdf('news.csv', sep=\"^\")\n",
    "\n",
    "d2v_model = gensim.models.doc2vec.Doc2Vec.load(os.path.join(rootpath.detect(), *['model', 'model.doc2vec']))\n",
    "# data = load_pickle(os.path.join(rootpath.detect(), *[\"data\", \"rec\", \"train_tagged_doc.pickle\"]))\n",
    "data = load_pickle(os.path.join(rootpath.detect(), *[\"data\", \"rec\", \"test_tagged_doc.pickle\"]))\n",
    "\n",
    "_check_sim_news(data[:7], df, d2v_model)"
   ]
  }
 ],
 "metadata": {
  "interpreter": {
   "hash": "2eb63c4ca5dde2dd56727c91a439698f7a99d6ef8ca6a4aa7a5497277c10aac5"
  },
  "kernelspec": {
   "display_name": "Python 3.8.9 ('venv': venv)",
   "language": "python",
   "name": "python3"
  },
  "language_info": {
   "codemirror_mode": {
    "name": "ipython",
    "version": 3
   },
   "file_extension": ".py",
   "mimetype": "text/x-python",
   "name": "python",
   "nbconvert_exporter": "python",
   "pygments_lexer": "ipython3",
   "version": "3.9.10"
  },
  "orig_nbformat": 4
 },
 "nbformat": 4,
 "nbformat_minor": 2
}
