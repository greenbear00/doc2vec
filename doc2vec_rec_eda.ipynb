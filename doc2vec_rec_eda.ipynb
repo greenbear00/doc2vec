{
 "cells": [
  {
   "cell_type": "markdown",
   "metadata": {},
   "source": [
    "# Doc2Vec을 기반한 뉴스 연관 추천"
   ]
  },
  {
   "cell_type": "markdown",
   "metadata": {},
   "source": [
    "## 1. 뉴스 데이터 로드"
   ]
  },
  {
   "cell_type": "code",
   "execution_count": 9,
   "metadata": {},
   "outputs": [],
   "source": [
    "from doc2vec.util.Logger import Logger\n",
    "from doc2vec.util.conf_parser import Parser\n",
    "from doc2vec.elastic.analyzer.nori_analyzer import NoriAnalyzer\n",
    "from doc2vec.preprocessing.preprocessing import *\n",
    "from doc2vec.util.common import load_pickle, save_pickle\n",
    "from doc2vec.preprocessing.preprocessing import generate_tagged_document_by_pandas, load_pdf, is_contain_str\n",
    "import pandas as pd \n",
    "from doc2vec.model.doc2vec import build_model"
   ]
  },
  {
   "cell_type": "code",
   "execution_count": null,
   "metadata": {},
   "outputs": [],
   "source": [
    "logger = Logger(file_name=__name__).logger\n",
    "p = Parser()\n",
    "\n",
    "nori = NoriAnalyzer(**p.elastic_conf)"
   ]
  },
  {
   "cell_type": "code",
   "execution_count": 4,
   "metadata": {},
   "outputs": [
    {
     "name": "stdout",
     "output_type": "stream",
     "text": [
      "file_path : /Users/jmac/project/jtbc_news_data/analyzer/data/rec/news.csv\n",
      "file_name : news.csv\n",
      "DATA INFO\n",
      "<class 'pandas.core.frame.DataFrame'>\n",
      "RangeIndex: 65144 entries, 0 to 65143\n",
      "Data columns (total 5 columns):\n",
      " #   Column        Non-Null Count  Dtype                                \n",
      "---  ------        --------------  -----                                \n",
      " 0   news_id       65144 non-null  object                               \n",
      " 1   news_nm       65144 non-null  object                               \n",
      " 2   section       65144 non-null  object                               \n",
      " 3   service_date  65144 non-null  datetime64[ns, pytz.FixedOffset(540)]\n",
      " 4   news_content  65144 non-null  object                               \n",
      "dtypes: datetime64[ns, pytz.FixedOffset(540)](1), object(4)\n",
      "memory usage: 2.5+ MB\n",
      "\n",
      "----------------------------------------------------------------------------------------------------\n",
      "DATA IS_NULL\n",
      "+--------------+-----+\n",
      "|              |   0 |\n",
      "|--------------+-----|\n",
      "| news_id      |   0 |\n",
      "| news_nm      |   0 |\n",
      "| section      |   0 |\n",
      "| service_date |   0 |\n",
      "| news_content |   0 |\n",
      "+--------------+-----+\n"
     ]
    },
    {
     "data": {
      "text/html": [
       "<div>\n",
       "<style scoped>\n",
       "    .dataframe tbody tr th:only-of-type {\n",
       "        vertical-align: middle;\n",
       "    }\n",
       "\n",
       "    .dataframe tbody tr th {\n",
       "        vertical-align: top;\n",
       "    }\n",
       "\n",
       "    .dataframe thead th {\n",
       "        text-align: right;\n",
       "    }\n",
       "</style>\n",
       "<table border=\"1\" class=\"dataframe\">\n",
       "  <thead>\n",
       "    <tr style=\"text-align: right;\">\n",
       "      <th></th>\n",
       "      <th>news_id</th>\n",
       "      <th>news_nm</th>\n",
       "      <th>section</th>\n",
       "      <th>service_date</th>\n",
       "      <th>news_content</th>\n",
       "      <th>is_in_str</th>\n",
       "    </tr>\n",
       "  </thead>\n",
       "  <tbody>\n",
       "    <tr>\n",
       "      <th>64707</th>\n",
       "      <td>NB12045093</td>\n",
       "      <td>설 전 양자토론 끝내 무산됐다…남은 건 '네 탓 공방'</td>\n",
       "      <td>정치</td>\n",
       "      <td>2022-01-31 19:44:00+09:00</td>\n",
       "      <td>&lt;div id='div_NV10478125' class='jtbc_vod'&gt;&lt;/di...</td>\n",
       "      <td>False</td>\n",
       "    </tr>\n",
       "    <tr>\n",
       "      <th>64708</th>\n",
       "      <td>NB12045094</td>\n",
       "      <td>[인터뷰] 박주민 \"자료 있어야 토론, 후보가 준비 안 된 것\"</td>\n",
       "      <td>정치</td>\n",
       "      <td>2022-01-31 21:19:00+09:00</td>\n",
       "      <td>&lt;div id='div_NV10478127' class='jtbc_vod'&gt;&lt;/di...</td>\n",
       "      <td>False</td>\n",
       "    </tr>\n",
       "    <tr>\n",
       "      <th>64709</th>\n",
       "      <td>NB12045095</td>\n",
       "      <td>[인터뷰] 성일종 \"범죄 혐의 자료, 증거 제시 위해 필요\"</td>\n",
       "      <td>정치</td>\n",
       "      <td>2022-01-31 21:24:00+09:00</td>\n",
       "      <td>&lt;div id='div_NV10478129' class='jtbc_vod'&gt;&lt;/di...</td>\n",
       "      <td>False</td>\n",
       "    </tr>\n",
       "    <tr>\n",
       "      <th>64710</th>\n",
       "      <td>NB12045096</td>\n",
       "      <td>1월 31일 (월) 뉴스룸 다시보기</td>\n",
       "      <td>정치</td>\n",
       "      <td>2022-02-05 16:25:00+09:00</td>\n",
       "      <td>&lt;div id='div_NV10478712' class='jtbc_vod'&gt;&lt;/di...</td>\n",
       "      <td>False</td>\n",
       "    </tr>\n",
       "    <tr>\n",
       "      <th>64711</th>\n",
       "      <td>NB12045105</td>\n",
       "      <td>가정집에서 전 부치다 부탄가스 폭발…일가족 7명 부상</td>\n",
       "      <td>사회</td>\n",
       "      <td>2022-01-31 20:25:00+09:00</td>\n",
       "      <td>&lt;div id='div_NV10478151' class='jtbc_vod'&gt;&lt;/di...</td>\n",
       "      <td>False</td>\n",
       "    </tr>\n",
       "  </tbody>\n",
       "</table>\n",
       "</div>"
      ],
      "text/plain": [
       "          news_id  ... is_in_str\n",
       "64707  NB12045093  ...     False\n",
       "64708  NB12045094  ...     False\n",
       "64709  NB12045095  ...     False\n",
       "64710  NB12045096  ...     False\n",
       "64711  NB12045105  ...     False\n",
       "\n",
       "[5 rows x 6 columns]"
      ]
     },
     "execution_count": 4,
     "metadata": {},
     "output_type": "execute_result"
    }
   ],
   "source": [
    "ori_df = load_pdf(\"news.csv\", sep=\"^\")\n",
    "\n",
    "# 제거할 거 (news_nm기준으로 제거, 65,144 -> 64,712로 432개 article이 제거됨 )\n",
    "# - 클로징, BGM, 썰전 라이브 다시보기(-> 이건 text 내용이 없음)\n",
    "# 사용자 history 기반 news 수 :\n",
    "#          news_id  ...                                       news_content\n",
    "# 65139  NB12045093  ...  <div id='div_NV10478125' ...\n",
    "# 65140  NB12045094  ...  <div id='div_NV10478127' ...\n",
    "ori_df['is_in_str'] = ori_df['news_nm'].apply(is_contain_str)\n",
    "df = ori_df[~ori_df['is_in_str']==True].copy()\n",
    "df.reset_index(drop=True, inplace=True)\n",
    "\n",
    "df.tail()\n",
    "\n"
   ]
  },
  {
   "cell_type": "markdown",
   "metadata": {},
   "source": [
    "## 2. elastic 기반 형태소 분석 수행 (with. nori analyzer)"
   ]
  },
  {
   "cell_type": "markdown",
   "metadata": {},
   "source": [
    "위에서 로드한 news.csv 파일에서 news_nm과 news_content를 기준으로 사전에 구축 및 nori 플러그인이 설치된 elastic에 analyzer를 수행하여\n",
    "형태소 분석된 결과를 parsing_data_df(pandas) 형태로 저장\n",
    "- 참고로 elastic analyze에서는 list 형태로 데이터 분석에 제한이 있어서 우선 step=10으로 10개의 documents 단위로 형태소 분석을 수행함"
   ]
  },
  {
   "cell_type": "code",
   "execution_count": null,
   "metadata": {},
   "outputs": [],
   "source": [
    "save_flag = True\n",
    "\n",
    "step = 10\n",
    "\n",
    "analyzed_df = pd.DataFrame(columns=['news_id', 'tagged_doc'])\n",
    "\n",
    "news_contents_parsing = {}\n",
    "nori.update_index_setting()\n",
    "for idx in range(0, df.shape[0], step):\n",
    "    if idx + step > df.shape[0]:\n",
    "        parsing_df = df.iloc[idx: df.shape[0]][['news_id', 'news_content', 'news_nm']]\n",
    "    else:\n",
    "        parsing_df = df.iloc[idx: idx + step][['news_id', 'news_content', 'news_nm']]\n",
    "\n",
    "    tmp_parsing = nori.get_parsing_news_contents_from_csv(parsing_df)\n",
    "    news_contents_parsing.update(tmp_parsing)\n",
    "    result_df = pd.DataFrame({'news_id': list(tmp_parsing.keys()), 'tagged_doc': list(tmp_parsing.values())})\n",
    "    analyzed_df = pd.concat([analyzed_df, result_df], axis=0)\n",
    "\n",
    "if save_flag:\n",
    "    save_pickle(os.path.join(rootpath.detect(), *[\"data\", \"rec\", \"parsing_data.pickle\"]), news_contents_parsing)\n",
    "    save_pickle(os.path.join(rootpath.detect(), *[\"data\", \"rec\", \"parsing_data_df.pickle\"]),\n",
    "                analyzed_df)"
   ]
  },
  {
   "cell_type": "markdown",
   "metadata": {},
   "source": [
    "## 3. doc2vec 모델 생성을 위한 데이터 변환 및 분할\n",
    "\n",
    "elastic기반으로 형태소 분석된 데이터를 TaggedDocument로 변환하고\n",
    "검증을 위해 훈련데이터와 검증 데이터를 나뉨\n",
    "\n",
    "TaggedDocument는 words와 tags로 정의 됨\n",
    "- TaggedDocument(['홍남기', '부총리', '기획', '재정부', '장관', ..., '통보'], ['2022030610442141299'])"
   ]
  },
  {
   "cell_type": "code",
   "execution_count": 10,
   "metadata": {},
   "outputs": [
    {
     "name": "stdout",
     "output_type": "stream",
     "text": [
      "x_train.shape=  (45298, 1) , y_train.shape=  (45298,)\n",
      "x_test.shape=  (19414, 1) , y_test.shape=  (19414,)\n"
     ]
    }
   ],
   "source": [
    "from sklearn.model_selection import train_test_split\n",
    "\n",
    "parsing_data_df_path = os.path.join(rootpath.detect(), *[\"data\", \"rec\", \"parsing_data_df.pickle\"])\n",
    "parsing_data_df = load_pickle(parsing_data_df_path)\n",
    "\n",
    "x_train, x_test, y_train, y_test = train_test_split(parsing_data_df[['tagged_doc']],\n",
    "                                                    parsing_data_df['news_id'],\n",
    "                                                    test_size=0.3,\n",
    "                                                    shuffle=True,\n",
    "                                                    random_state=42)\n",
    "x_train = x_train.reset_index(drop=True)\n",
    "x_test = x_test.reset_index(drop=True)\n",
    "y_train = y_train.reset_index(drop=True)\n",
    "y_test = y_test.reset_index(drop=True)\n",
    "print(\"x_train.shape= \", x_train.shape, \", y_train.shape= \", y_train.shape)\n",
    "print(\"x_test.shape= \", x_test.shape, \", y_test.shape= \", y_test.shape)\n",
    "\n",
    "train_tagged_doc = generate_tagged_document_by_pandas(x_train, y_train)\n",
    "test_tagged_doc = generate_tagged_document_by_pandas(x_test, y_test)\n",
    "\n",
    "save_pickle(os.path.join(rootpath.detect(), *[\"data\", \"rec\", \"train_tagged_doc.pickle\"]), train_tagged_doc)\n",
    "save_pickle(os.path.join(rootpath.detect(), *[\"data\", \"rec\", \"test_tagged_doc.pickle\"]), test_tagged_doc)"
   ]
  },
  {
   "cell_type": "markdown",
   "metadata": {},
   "source": [
    "## 4. 모델 생성 및 저장\n",
    "\n",
    "doc2vec 모델을 위해서 gensim을 사용하였으며, 모델에 대한 정의는 doc2vec/model/doc2vec.py에 정의 되어 있음\n",
    "\n",
    "일반적으로 dm=1 즉, PV-DM 학습 방법이 성능이 더 좋다고 하여 해당 방법을 채택\n",
    "\n",
    "또한 vector_size가 크면 좋지만, 그에 따른 학습 속도가 길어지기 때문에 vector_size와 windows 사이즈에 대한 성능 측정을 참고하여 vector_size=1000, window=3을 선택\n",
    "\n",
    "\n",
    "참고: 내부에서 정의된 모델 정보 (병렬처리 하게끔 설정함)\n",
    "\n",
    "\n",
    "    model = gensim.models.doc2vec.Doc2Vec(vector_size=1000, min_count=2, epochs=100,\n",
    "                                            alpha=0.025, min_alpha=0.00025, workers=cores,\n",
    "                                            window=3, dm=1, seed=9999)\n",
    "                                \n"
   ]
  },
  {
   "cell_type": "code",
   "execution_count": null,
   "metadata": {},
   "outputs": [],
   "source": [
    "tagged_doc = load_pickle(os.path.join(rootpath.detect(), *[\"data\", \"rec\", \"train_tagged_doc.pickle\"]))\n",
    "\n",
    "# 모델 불러오기\n",
    "d2v_model = build_model()\n",
    "\n",
    "# 사전 구축\n",
    "d2v_model.build_vocab(tagged_doc)\n",
    "\n",
    "# 모델 훈련\n",
    "d2v_model.train(tagged_doc, total_examples=d2v_model.corpus_count, epochs=d2v_model.epochs)\n",
    "\n",
    "d2v_model.save(os.path.join(rootpath.detect(), *['model', 'model.doc2vec']))"
   ]
  },
  {
   "cell_type": "markdown",
   "metadata": {},
   "source": [
    "모델 테스트는 아래와 같이 가볍게 할 수 있음:\n",
    "\n",
    "- 아래는 검증 데이터를 기반으로 훈련된 모델에서 문서에 대한 vector가 주어졌을때 vector를 뽑아줌"
   ]
  },
  {
   "cell_type": "code",
   "execution_count": 12,
   "metadata": {},
   "outputs": [
    {
     "name": "stderr",
     "output_type": "stream",
     "text": [
      "2022-03-14 15:57:20,508 [INFO] - utils.py:load - line:481 - loading Doc2Vec object from /Users/jmac/project/jtbc_news_data/analyzer/model/model.doc2vec\n",
      "2022-03-14 15:57:20,572 [INFO] - utils.py:_load_specials - line:515 - loading dv recursively from /Users/jmac/project/jtbc_news_data/analyzer/model/model.doc2vec.dv.* with mmap=None\n",
      "2022-03-14 15:57:20,573 [INFO] - utils.py:_load_specials - line:515 - loading wv recursively from /Users/jmac/project/jtbc_news_data/analyzer/model/model.doc2vec.wv.* with mmap=None\n",
      "2022-03-14 15:57:20,574 [INFO] - utils.py:_load_specials - line:520 - loading vectors from /Users/jmac/project/jtbc_news_data/analyzer/model/model.doc2vec.wv.vectors.npy with mmap=None\n",
      "2022-03-14 15:57:20,812 [INFO] - utils.py:_load_specials - line:520 - loading syn1neg from /Users/jmac/project/jtbc_news_data/analyzer/model/model.doc2vec.syn1neg.npy with mmap=None\n",
      "2022-03-14 15:57:21,088 [INFO] - utils.py:_load_specials - line:553 - setting ignored attribute cum_table to None\n",
      "2022-03-14 15:57:21,604 [INFO] - utils.py:add_lifecycle_event - line:447 - Doc2Vec lifecycle event {'fname': '/Users/jmac/project/jtbc_news_data/analyzer/model/model.doc2vec', 'datetime': '2022-03-14T15:57:21.604569', 'gensim': '4.1.2', 'python': '3.8.9 (default, Aug 21 2021, 15:53:23) \\n[Clang 13.0.0 (clang-1300.0.29.3)]', 'platform': 'macOS-11.6-x86_64-i386-64bit', 'event': 'loaded'}\n"
     ]
    },
    {
     "name": "stdout",
     "output_type": "stream",
     "text": [
      "TaggedDocument(['김영희', '성탄절', '이재명', '영상', '공개', '민주당', '선대위', '홍보', '소통', '본부', '장', '영입', '김영희', 'MBC', '콘텐츠', '총괄', '부사장', '오른쪽', '사진', '연합뉴스', 'MBC', '콘텐츠', '총괄', '부사장', '김영희', '민주당', '선거', '대책', '위원회', '홍보', '소통', '본부', '장', '25', '일', '모두', '이재명', '대선', '후보', '기획', '영상', '공개', '김', '본부', '장', '어제', '17', '일', 'CBS', '라디오', '출연', '후보', '설득', '선거', '판', '대선', '중요', '생각', '힘든', '시도', '말', '내용', '인지', '힌트', '질문', '그', '말씀', '누구', '카피', '수준', '라면서', '후보', '산타나', '루돌프', '복장', '냐는', '질문', '그럴', '말', '김', '본부', '장', '후보', '유능', '경제', '대통령', '생각', '후보', '인간', '인', '모습', '있', '유능', '경제', '대통령', '친근', '부드러운', '이미지', '승리', '이', '생각', '선대위', '합류', '날', '일요일', '집', '앞', '송영길', '민주당', '대표', '밤', '8', '시', '1', '시간', '이건', '예의', '아닌', '같', '집', '맥주', '배경', '설명', '그', '이준석', '국민의힘', '대표', '집', '앞', '2', '시간', '그쪽', '질문', '그쪽', '마음', '말'], ['NB12039441'])\n",
      "vector size =  1000\n",
      "Top 10 values in Doc2Vec inferred vecotr: \n",
      "[-0.23173319  0.52654815  0.16003528  0.3549234  -0.39076102  0.58109957\n",
      " -0.13723251 -0.464021   -0.26893345  0.04027719]\n"
     ]
    }
   ],
   "source": [
    "test_tagged_doc = load_pickle(os.path.join(rootpath.detect(), *[\"data\", \"rec\", \"test_tagged_doc.pickle\"]))\n",
    "\n",
    "d2v_model = gensim.models.doc2vec.Doc2Vec.load(os.path.join(rootpath.detect(), *['model', 'model.doc2vec']))\n",
    "\n",
    "print(test_tagged_doc[0])\n",
    "vector = d2v_model.infer_vector(test_tagged_doc[0].words)\n",
    "print(\"vector size = \", len(vector))\n",
    "print(\"Top 10 values in Doc2Vec inferred vecotr: \")\n",
    "print(vector[:10])"
   ]
  },
  {
   "cell_type": "code",
   "execution_count": 14,
   "metadata": {},
   "outputs": [
    {
     "name": "stderr",
     "output_type": "stream",
     "text": [
      "2022-03-14 15:57:49,929 [INFO] - utils.py:load - line:481 - loading Doc2Vec object from /Users/jmac/project/jtbc_news_data/analyzer/model/model.doc2vec\n",
      "2022-03-14 15:57:49,961 [INFO] - utils.py:_load_specials - line:515 - loading dv recursively from /Users/jmac/project/jtbc_news_data/analyzer/model/model.doc2vec.dv.* with mmap=None\n",
      "2022-03-14 15:57:49,962 [INFO] - utils.py:_load_specials - line:515 - loading wv recursively from /Users/jmac/project/jtbc_news_data/analyzer/model/model.doc2vec.wv.* with mmap=None\n",
      "2022-03-14 15:57:49,963 [INFO] - utils.py:_load_specials - line:520 - loading vectors from /Users/jmac/project/jtbc_news_data/analyzer/model/model.doc2vec.wv.vectors.npy with mmap=None\n",
      "2022-03-14 15:57:50,054 [INFO] - utils.py:_load_specials - line:520 - loading syn1neg from /Users/jmac/project/jtbc_news_data/analyzer/model/model.doc2vec.syn1neg.npy with mmap=None\n",
      "2022-03-14 15:57:50,146 [INFO] - utils.py:_load_specials - line:553 - setting ignored attribute cum_table to None\n",
      "2022-03-14 15:57:50,568 [INFO] - utils.py:add_lifecycle_event - line:447 - Doc2Vec lifecycle event {'fname': '/Users/jmac/project/jtbc_news_data/analyzer/model/model.doc2vec', 'datetime': '2022-03-14T15:57:50.568709', 'gensim': '4.1.2', 'python': '3.8.9 (default, Aug 21 2021, 15:53:23) \\n[Clang 13.0.0 (clang-1300.0.29.3)]', 'platform': 'macOS-11.6-x86_64-i386-64bit', 'event': 'loaded'}\n"
     ]
    },
    {
     "name": "stdout",
     "output_type": "stream",
     "text": [
      "['NB12039792', 'NB12038499', 'NB12031313', 'NB12044649', 'NB12034031', 'NB12034896', 'NB12034798', 'NB12043956', 'NB12038338', 'NB12039392']\n"
     ]
    },
    {
     "name": "stderr",
     "output_type": "stream",
     "text": [
      "/var/folders/9m/hqzkkj0n7030by4xtpmq_fcw0000gn/T/ipykernel_82095/780563596.py:3: DeprecationWarning: Call to deprecated `docvecs` (The `docvecs` property has been renamed `dv`.).\n",
      "  print(d2v_model.docvecs.index_to_key[:10])\n"
     ]
    }
   ],
   "source": [
    "# 모델에 훈련된 tags를 확인 하는 방법\n",
    "d2v_model = gensim.models.doc2vec.Doc2Vec.load(os.path.join(rootpath.detect(), *['model', 'model.doc2vec']))\n",
    "print(d2v_model.docvecs.index_to_key[:10])"
   ]
  },
  {
   "cell_type": "markdown",
   "metadata": {},
   "source": [
    "## 5. 연관 문서 추천 (doc2vec)\n",
    "\n",
    "훈련 데이터를 기반으로 특정 문서를 넣었을때, 해당 문서와 유사한 문서를 훈련된 모델로 찾음\n",
    "\n",
    "참고: 자기 자신 제외는 아직 로직 상 집어 넣지 않았음.\n",
    "\n",
    "(그래도 결과적으로 유사한 뉴스가 나옴)\n"
   ]
  },
  {
   "cell_type": "code",
   "execution_count": 23,
   "metadata": {},
   "outputs": [],
   "source": [
    "def _check_sim_news(data, news_df, d2v_model):\n",
    "\n",
    "    for a_data in data:\n",
    "        selected_news_id = a_data.tags[0]\n",
    "        selected_news_df = news_df[news_df['news_id'] == selected_news_id][['news_id', 'news_nm', 'news_content']]\n",
    "        print(\"\\n=============================================================================================================\")\n",
    "        print(f\"[{selected_news_id}] {selected_news_df.news_nm.values[0]}\")\n",
    "        inferred = d2v_model.infer_vector(a_data.words)\n",
    "        sims = d2v_model.dv.most_similar(inferred, topn=5)\n",
    "\n",
    "        for sim in sims:\n",
    "            news_id = sim[0]\n",
    "            sim_value = sim[1]\n",
    "            tmp_sim_news_df = news_df[news_df['news_id'] == news_id][\n",
    "                ['news_id', 'news_nm', 'news_content']]\n",
    "            if not tmp_sim_news_df.empty:\n",
    "                print(f\" 연관추천 [{news_id} ({sim_value})] {tmp_sim_news_df.news_nm.values[0]}\")\n",
    "        print(\"\\n\\n\")"
   ]
  },
  {
   "cell_type": "code",
   "execution_count": 26,
   "metadata": {},
   "outputs": [
    {
     "name": "stdout",
     "output_type": "stream",
     "text": [
      "file_path : /Users/jmac/project/jtbc_news_data/analyzer/data/rec/news.csv\n",
      "file_name : news.csv\n",
      "DATA INFO\n",
      "<class 'pandas.core.frame.DataFrame'>\n",
      "RangeIndex: 65144 entries, 0 to 65143\n",
      "Data columns (total 5 columns):\n",
      " #   Column        Non-Null Count  Dtype                                \n",
      "---  ------        --------------  -----                                \n",
      " 0   news_id       65144 non-null  object                               \n",
      " 1   news_nm       65144 non-null  object                               \n",
      " 2   section       65144 non-null  object                               \n",
      " 3   service_date  65144 non-null  datetime64[ns, pytz.FixedOffset(540)]\n",
      " 4   news_content  65144 non-null  object                               \n",
      "dtypes: datetime64[ns, pytz.FixedOffset(540)](1), object(4)\n",
      "memory usage: 2.5+ MB\n",
      "\n",
      "----------------------------------------------------------------------------------------------------\n",
      "DATA IS_NULL\n",
      "+--------------+-----+\n",
      "|              |   0 |\n",
      "|--------------+-----|\n",
      "| news_id      |   0 |\n",
      "| news_nm      |   0 |\n",
      "| section      |   0 |\n",
      "| service_date |   0 |\n",
      "| news_content |   0 |\n",
      "+--------------+-----+\n"
     ]
    },
    {
     "name": "stderr",
     "output_type": "stream",
     "text": [
      "2022-03-14 16:36:36,483 [INFO] - utils.py:load - line:481 - loading Doc2Vec object from /Users/jmac/project/jtbc_news_data/analyzer/model/model.doc2vec\n",
      "2022-03-14 16:36:36,563 [INFO] - utils.py:_load_specials - line:515 - loading dv recursively from /Users/jmac/project/jtbc_news_data/analyzer/model/model.doc2vec.dv.* with mmap=None\n",
      "2022-03-14 16:36:36,565 [INFO] - utils.py:_load_specials - line:515 - loading wv recursively from /Users/jmac/project/jtbc_news_data/analyzer/model/model.doc2vec.wv.* with mmap=None\n",
      "2022-03-14 16:36:36,566 [INFO] - utils.py:_load_specials - line:520 - loading vectors from /Users/jmac/project/jtbc_news_data/analyzer/model/model.doc2vec.wv.vectors.npy with mmap=None\n",
      "2022-03-14 16:36:36,654 [INFO] - utils.py:_load_specials - line:520 - loading syn1neg from /Users/jmac/project/jtbc_news_data/analyzer/model/model.doc2vec.syn1neg.npy with mmap=None\n",
      "2022-03-14 16:36:36,739 [INFO] - utils.py:_load_specials - line:553 - setting ignored attribute cum_table to None\n",
      "2022-03-14 16:36:37,155 [INFO] - utils.py:add_lifecycle_event - line:447 - Doc2Vec lifecycle event {'fname': '/Users/jmac/project/jtbc_news_data/analyzer/model/model.doc2vec', 'datetime': '2022-03-14T16:36:37.155715', 'gensim': '4.1.2', 'python': '3.8.9 (default, Aug 21 2021, 15:53:23) \\n[Clang 13.0.0 (clang-1300.0.29.3)]', 'platform': 'macOS-11.6-x86_64-i386-64bit', 'event': 'loaded'}\n"
     ]
    },
    {
     "name": "stdout",
     "output_type": "stream",
     "text": [
      "\n",
      "=============================================================================================================\n",
      "[NB12042908] [걸어서 인터뷰ON] 이준석 \"김건희 심신피폐, 국민여론 일부 호응할 수도\"\n",
      " 연관추천 [NB12042908 (0.9250392913818359)] [걸어서 인터뷰ON] 이준석 \"김건희 심신피폐, 국민여론 일부 호응할 수도\"\n",
      " 연관추천 [NB12042931 (0.5079581141471863)] 오늘 '김건희 녹취' 방송…이준석 \"일정부분 공감 여론 생길 것\"\n",
      " 연관추천 [NB12031492 (0.3708450496196747)] 11월 8일 (월) 뉴스룸 다시보기\n",
      " 연관추천 [NB12044284 (0.3635936975479126)] [속보]'요양급여 불법 수급' 윤석열 장모 2심서 무죄\n",
      " 연관추천 [NB12042836 (0.3451680839061737)] 1월 14일 (금) 뉴스룸 다시보기\n",
      "\n",
      "\n",
      "\n",
      "\n",
      "=============================================================================================================\n",
      "[NB12040914] [뉴스썰기] 조원진 \"야당 후보교체\"…'무야홍' 어게인? \n",
      " 연관추천 [NB12040914 (0.8656050562858582)] [뉴스썰기] 조원진 \"야당 후보교체\"…'무야홍' 어게인? \n",
      " 연관추천 [NB12044284 (0.47114697098731995)] [속보]'요양급여 불법 수급' 윤석열 장모 2심서 무죄\n",
      " 연관추천 [NB12035244 (0.41691717505455017)] [날씨] 전국 대체로 맑고 큰 일교차…동해안 건조특보\n",
      " 연관추천 [NB12039793 (0.41420161724090576)] [오늘, 이 장면] 바람을 타는지, 파도를 타는지 모르는 '카이트 보딩'\n",
      " 연관추천 [NB12040157 (0.41247880458831787)] 문 대통령, 박근혜 전격 사면할듯…한명숙도 포함\n",
      "\n",
      "\n",
      "\n",
      "\n",
      "=============================================================================================================\n",
      "[NB12035070] 한때 배달원이던 이 선수, 꿈의 무대서 극적 결승골\n",
      " 연관추천 [NB12035070 (0.8485115766525269)] 한때 배달원이던 이 선수, 꿈의 무대서 극적 결승골\n",
      " 연관추천 [NB12041512 (0.4686205983161926)] [오늘, 이 장면] 덩크슛은 높아야? 덩크슛은 빨라야!\n",
      " 연관추천 [NB12037961 (0.4647146761417389)] '수비수의 반란' 홍정호 MVP…K리그 빛낸 명장면들\n",
      " 연관추천 [NB12006296 (0.45149368047714233)] '손흥민 풀타임·슈팅 제로' 토트넘, 애스턴 빌라에 역전패\n",
      " 연관추천 [NB12028679 (0.44256630539894104)] [오늘, 이 장면] 골키퍼 실수가 만들어준 '꿈의 오버헤드킥'\n",
      "\n",
      "\n",
      "\n",
      "\n",
      "=============================================================================================================\n",
      "[NB12041087] 확 늘어난 오미크론…\"거리두기 해도 1월 하루 1만명\"\n",
      " 연관추천 [NB12041087 (0.9123956561088562)] 확 늘어난 오미크론…\"거리두기 해도 1월 하루 1만명\"\n",
      " 연관추천 [NB12044348 (0.4010038673877716)] 1월 25일 (화) 뉴스룸 다시보기\n",
      " 연관추천 [NB12044726 (0.36201271414756775)] 1월 27일 (목) 뉴스룸 다시보기\n",
      " 연관추천 [NB12035518 (0.3510339856147766)] '오미크론' 확인에 최대 5일…\"조용한 전파 가능\"\n",
      " 연관추천 [NB12043819 (0.34424540400505066)] 1월 21일 (금) 뉴스룸 다시보기\n",
      "\n",
      "\n",
      "\n",
      "\n",
      "=============================================================================================================\n",
      "[NB12040660] [단독] 김건희 지도교수 \"지금 같으면 통과 못 해…양심 문제\"\n",
      " 연관추천 [NB12040660 (0.8608418107032776)] [단독] 김건희 지도교수 \"지금 같으면 통과 못 해…양심 문제\"\n",
      " 연관추천 [NB12040696 (0.8566786646842957)] 김건희 숙명여대 지도교수 \"지금 같으면 통과 못 해\"\n",
      " 연관추천 [NB12040635 (0.5902960896492004)] [단독] 김건희 논문 지도교수 \"요즘엔 통과 못 해, 결국 양심 문제\" \n",
      " 연관추천 [NB12040664 (0.4621487855911255)] 12월 28일 (화) 뉴스룸 다시보기\n",
      " 연관추천 [NB12038877 (0.44366559386253357)] [인터뷰] \"지하철이 갑자기 멈출 때 같은 진동 느꼈다\"\n",
      "\n",
      "\n",
      "\n"
     ]
    }
   ],
   "source": [
    "news_df = load_pdf('news.csv', sep=\"^\")\n",
    "\n",
    "d2v_model = gensim.models.doc2vec.Doc2Vec.load(os.path.join(rootpath.detect(), *['model', 'model.doc2vec']))\n",
    "# data = load_pickle(os.path.join(rootpath.detect(), *[\"data\", \"rec\",\"parsing_data.pickle\"]))\n",
    "data = load_pickle(os.path.join(rootpath.detect(), *[\"data\", \"rec\", \"test_tagged_doc.pickle\"]))\n",
    "\n",
    "_check_sim_news(data[101:106], news_df, d2v_model)"
   ]
  }
 ],
 "metadata": {
  "interpreter": {
   "hash": "2eb63c4ca5dde2dd56727c91a439698f7a99d6ef8ca6a4aa7a5497277c10aac5"
  },
  "kernelspec": {
   "display_name": "Python 3.8.9 ('venv': venv)",
   "language": "python",
   "name": "python3"
  },
  "language_info": {
   "codemirror_mode": {
    "name": "ipython",
    "version": 3
   },
   "file_extension": ".py",
   "mimetype": "text/x-python",
   "name": "python",
   "nbconvert_exporter": "python",
   "pygments_lexer": "ipython3",
   "version": "3.8.9"
  },
  "orig_nbformat": 4
 },
 "nbformat": 4,
 "nbformat_minor": 2
}
